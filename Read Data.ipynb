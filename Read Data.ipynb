{
 "cells": [
  {
   "cell_type": "code",
   "execution_count": 1,
   "metadata": {},
   "outputs": [],
   "source": [
    "import mysql.connector as mysql\n",
    "import pandas as pd\n",
    "from sklearn.feature_extraction.text import TfidfVectorizer\n",
    "import numpy as np"
   ]
  },
  {
   "cell_type": "markdown",
   "metadata": {},
   "source": [
    "##### Even if I'm using mysql, you can still use csv files."
   ]
  },
  {
   "cell_type": "code",
   "execution_count": 2,
   "metadata": {},
   "outputs": [],
   "source": [
    "mydb = mysql.connect(\n",
    "    host=\"localhost\",\n",
    "    user=\"root\",\n",
    "    password=\"\",\n",
    "    database=\"test\"\n",
    ")\n",
    "\n",
    "mycursor = mydb.cursor()\n",
    "\n",
    "mycursor.execute(\"SELECT * FROM terms\")\n",
    "\n",
    "# my_data = mycursor.fetchall()"
   ]
  },
  {
   "cell_type": "code",
   "execution_count": 3,
   "metadata": {},
   "outputs": [
    {
     "data": {
      "text/html": [
       "<div>\n",
       "<style scoped>\n",
       "    .dataframe tbody tr th:only-of-type {\n",
       "        vertical-align: middle;\n",
       "    }\n",
       "\n",
       "    .dataframe tbody tr th {\n",
       "        vertical-align: top;\n",
       "    }\n",
       "\n",
       "    .dataframe thead th {\n",
       "        text-align: right;\n",
       "    }\n",
       "</style>\n",
       "<table border=\"1\" class=\"dataframe\">\n",
       "  <thead>\n",
       "    <tr style=\"text-align: right;\">\n",
       "      <th></th>\n",
       "      <th>id</th>\n",
       "      <th>website</th>\n",
       "      <th>topic</th>\n",
       "      <th>subtopic</th>\n",
       "      <th>agree/disagree</th>\n",
       "      <th>terms</th>\n",
       "    </tr>\n",
       "  </thead>\n",
       "  <tbody>\n",
       "    <tr>\n",
       "      <th>0</th>\n",
       "      <td>1</td>\n",
       "      <td>khan academy</td>\n",
       "      <td>privacy policy</td>\n",
       "      <td>user information collection</td>\n",
       "      <td>1.0</td>\n",
       "      <td>When you create an account on the Service, or ...</td>\n",
       "    </tr>\n",
       "    <tr>\n",
       "      <th>1</th>\n",
       "      <td>2</td>\n",
       "      <td>khan academy</td>\n",
       "      <td>privacy policy</td>\n",
       "      <td>user information collection</td>\n",
       "      <td>1.0</td>\n",
       "      <td>After you register, you may also choose to pro...</td>\n",
       "    </tr>\n",
       "    <tr>\n",
       "      <th>2</th>\n",
       "      <td>3</td>\n",
       "      <td>khan academy</td>\n",
       "      <td>privacy policy</td>\n",
       "      <td>user information collection</td>\n",
       "      <td>1.0</td>\n",
       "      <td>In addition, we may ask you for personal infor...</td>\n",
       "    </tr>\n",
       "    <tr>\n",
       "      <th>3</th>\n",
       "      <td>4</td>\n",
       "      <td>khan academy</td>\n",
       "      <td>privacy policy</td>\n",
       "      <td>user information collection</td>\n",
       "      <td>1.0</td>\n",
       "      <td>If you decide to register through or otherwise...</td>\n",
       "    </tr>\n",
       "    <tr>\n",
       "      <th>4</th>\n",
       "      <td>5</td>\n",
       "      <td>khan academy</td>\n",
       "      <td>privacy policy</td>\n",
       "      <td>user information collection</td>\n",
       "      <td>1.0</td>\n",
       "      <td>You may also have the option of sharing additi...</td>\n",
       "    </tr>\n",
       "  </tbody>\n",
       "</table>\n",
       "</div>"
      ],
      "text/plain": [
       "   id       website           topic                     subtopic  \\\n",
       "0   1  khan academy  privacy policy  user information collection   \n",
       "1   2  khan academy  privacy policy  user information collection   \n",
       "2   3  khan academy  privacy policy  user information collection   \n",
       "3   4  khan academy  privacy policy  user information collection   \n",
       "4   5  khan academy  privacy policy  user information collection   \n",
       "\n",
       "   agree/disagree                                              terms  \n",
       "0             1.0  When you create an account on the Service, or ...  \n",
       "1             1.0  After you register, you may also choose to pro...  \n",
       "2             1.0  In addition, we may ask you for personal infor...  \n",
       "3             1.0  If you decide to register through or otherwise...  \n",
       "4             1.0  You may also have the option of sharing additi...  "
      ]
     },
     "execution_count": 3,
     "metadata": {},
     "output_type": "execute_result"
    }
   ],
   "source": [
    "#Load data\n",
    "my_df = pd.read_csv(\"../project-resources/my_dataset.csv\")\n",
    "my_df.head()"
   ]
  },
  {
   "cell_type": "code",
   "execution_count": 4,
   "metadata": {
    "scrolled": true
   },
   "outputs": [
    {
     "data": {
      "text/html": [
       "<div>\n",
       "<style scoped>\n",
       "    .dataframe tbody tr th:only-of-type {\n",
       "        vertical-align: middle;\n",
       "    }\n",
       "\n",
       "    .dataframe tbody tr th {\n",
       "        vertical-align: top;\n",
       "    }\n",
       "\n",
       "    .dataframe thead th {\n",
       "        text-align: right;\n",
       "    }\n",
       "</style>\n",
       "<table border=\"1\" class=\"dataframe\">\n",
       "  <thead>\n",
       "    <tr style=\"text-align: right;\">\n",
       "      <th></th>\n",
       "      <th>id</th>\n",
       "      <th>website</th>\n",
       "      <th>topic</th>\n",
       "      <th>subtopic</th>\n",
       "      <th>term</th>\n",
       "      <th>positive/negative</th>\n",
       "    </tr>\n",
       "  </thead>\n",
       "  <tbody>\n",
       "    <tr>\n",
       "      <th>0</th>\n",
       "      <td>1</td>\n",
       "      <td>chegg.com</td>\n",
       "      <td>privacy policy</td>\n",
       "      <td>user information collection</td>\n",
       "      <td>When you create a user account, we collect you...</td>\n",
       "      <td>NaN</td>\n",
       "    </tr>\n",
       "    <tr>\n",
       "      <th>1</th>\n",
       "      <td>2</td>\n",
       "      <td>chegg.com</td>\n",
       "      <td>privacy policy</td>\n",
       "      <td>user information collection</td>\n",
       "      <td>You may have the opportunity to create a profi...</td>\n",
       "      <td>NaN</td>\n",
       "    </tr>\n",
       "    <tr>\n",
       "      <th>2</th>\n",
       "      <td>3</td>\n",
       "      <td>chegg.com</td>\n",
       "      <td>privacy policy</td>\n",
       "      <td>user information collection</td>\n",
       "      <td>When you register to be a tutor, we will colle...</td>\n",
       "      <td>NaN</td>\n",
       "    </tr>\n",
       "    <tr>\n",
       "      <th>3</th>\n",
       "      <td>4</td>\n",
       "      <td>chegg.com</td>\n",
       "      <td>privacy policy</td>\n",
       "      <td>user information collection</td>\n",
       "      <td>We collect personal information from you such ...</td>\n",
       "      <td>NaN</td>\n",
       "    </tr>\n",
       "    <tr>\n",
       "      <th>4</th>\n",
       "      <td>5</td>\n",
       "      <td>chegg.com</td>\n",
       "      <td>privacy policy</td>\n",
       "      <td>user information collection</td>\n",
       "      <td>The Services may allow community members to co...</td>\n",
       "      <td>NaN</td>\n",
       "    </tr>\n",
       "  </tbody>\n",
       "</table>\n",
       "</div>"
      ],
      "text/plain": [
       "   id    website           topic                     subtopic  \\\n",
       "0   1  chegg.com  privacy policy  user information collection   \n",
       "1   2  chegg.com  privacy policy  user information collection   \n",
       "2   3  chegg.com  privacy policy  user information collection   \n",
       "3   4  chegg.com  privacy policy  user information collection   \n",
       "4   5  chegg.com  privacy policy  user information collection   \n",
       "\n",
       "                                                term  positive/negative  \n",
       "0  When you create a user account, we collect you...                NaN  \n",
       "1  You may have the opportunity to create a profi...                NaN  \n",
       "2  When you register to be a tutor, we will colle...                NaN  \n",
       "3  We collect personal information from you such ...                NaN  \n",
       "4  The Services may allow community members to co...                NaN  "
      ]
     },
     "execution_count": 4,
     "metadata": {},
     "output_type": "execute_result"
    }
   ],
   "source": [
    "other_df = pd.read_csv(\"../project-resources/testing_data.csv\")\n",
    "other_df.head()"
   ]
  },
  {
   "cell_type": "code",
   "execution_count": 10,
   "metadata": {},
   "outputs": [
    {
     "data": {
      "text/plain": [
       "array([[0.46344214, 0.24289808, 0.19972677, ..., 0.16858828, 0.13576142,\n",
       "        0.14646573],\n",
       "       [0.20791245, 0.16896101, 0.04582672, ..., 0.15294401, 0.04861145,\n",
       "        0.06164349],\n",
       "       [0.13915709, 0.18911446, 0.0978977 , ..., 0.24800929, 0.12268081,\n",
       "        0.08451566],\n",
       "       ...,\n",
       "       [0.09150245, 0.28237417, 0.11674561, ..., 0.14505433, 0.        ,\n",
       "        0.02377757],\n",
       "       [0.20656214, 0.14825066, 0.13040622, ..., 0.18340668, 0.04855091,\n",
       "        0.06466286],\n",
       "       [0.16494523, 0.11240491, 0.12953014, ..., 0.22243577, 0.15581486,\n",
       "        0.08604594]])"
      ]
     },
     "execution_count": 10,
     "metadata": {},
     "output_type": "execute_result"
    }
   ],
   "source": [
    "my_points = my_df['terms']\n",
    "other_points = other_df['term']\n",
    "\n",
    "# Train tfidf on my_points\n",
    "tfidf = TfidfVectorizer()\n",
    "tfidf_my_points = tfidf.fit_transform(my_points)\n",
    "\n",
    "# Tranform the corpus using the trained tfidf\n",
    "tfidf_other_points = tfidf.transform(other_points)\n",
    "\n",
    "# Cosine similarity (similarity matrix)\n",
    "cos_similarity = np.dot(tfidf_other_points, tfidf_my_points.T).A\n",
    "cos_similarity"
   ]
  },
  {
   "cell_type": "code",
   "execution_count": 12,
   "metadata": {},
   "outputs": [],
   "source": [
    "# All the words in all points\n",
    "words = tfidf.get_feature_names()"
   ]
  },
  {
   "cell_type": "code",
   "execution_count": null,
   "metadata": {},
   "outputs": [],
   "source": []
  }
 ],
 "metadata": {
  "kernelspec": {
   "display_name": "Python 3",
   "language": "python",
   "name": "python3"
  },
  "language_info": {
   "codemirror_mode": {
    "name": "ipython",
    "version": 3
   },
   "file_extension": ".py",
   "mimetype": "text/x-python",
   "name": "python",
   "nbconvert_exporter": "python",
   "pygments_lexer": "ipython3",
   "version": "3.8.3"
  }
 },
 "nbformat": 4,
 "nbformat_minor": 4
}
