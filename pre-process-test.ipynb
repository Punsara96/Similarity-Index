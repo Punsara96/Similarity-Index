{
 "cells": [
  {
   "cell_type": "code",
   "execution_count": 66,
   "metadata": {},
   "outputs": [],
   "source": [
    "from nltk.corpus import stopwords\n",
    "from nltk.stem import WordNetLemmatizer\n",
    "from nltk import word_tokenize\n",
    "import re\n",
    "import pandas as pd\n",
    "from sklearn.feature_extraction.text import TfidfVectorizer\n",
    "import numpy as np"
   ]
  },
  {
   "cell_type": "code",
   "execution_count": 2,
   "metadata": {},
   "outputs": [],
   "source": [
    "def lemmatization(lemmatizer, sentence):\n",
    "    lem = [lemmatizer.lemmatize(k) for k in sentence]\n",
    "    lem = set(lem)\n",
    "    return [k for k in lem]"
   ]
  },
  {
   "cell_type": "code",
   "execution_count": 3,
   "metadata": {},
   "outputs": [],
   "source": [
    "def remove_stop_words(stopwords_list, sentence):\n",
    "    return [k for k in sentence if k not in stopwords_list]"
   ]
  },
  {
   "cell_type": "code",
   "execution_count": 6,
   "metadata": {},
   "outputs": [],
   "source": [
    "def preprocess(point):\n",
    "    lemmatizer = WordNetLemmatizer()\n",
    "    stopwords_list = stopwords.words('english')\n",
    "    point = point.lower()\n",
    "    words = word_tokenize(point) # Remove punctuations\n",
    "    new_words = [word for word in words if word.isalnum()] # Getting only alpha numerics\n",
    "    remove_num = [re.sub('[0-9]', '', i) for i in new_words] # Remove Numbers if any after getting alpha numeric\n",
    "    remove_num = [i for i in remove_num if len(i) > 0] # Remove empty strings\n",
    "    lemmatized = lemmatization(lemmatizer, remove_num) # Word Lemmatization\n",
    "    remove_stop = remove_stop_words(stopwords_list, lemmatized) # remove stop words\n",
    "    updated_term = ' '.join(remove_stop)\n",
    "    return updated_term"
   ]
  },
  {
   "cell_type": "code",
   "execution_count": 44,
   "metadata": {},
   "outputs": [],
   "source": [
    "def preprocess_list(points):\n",
    "    point_arr = []\n",
    "    for index, point in points.items():\n",
    "        new_point = preprocess(point)\n",
    "        point_arr.append(new_point)\n",
    "    return point_arr"
   ]
  },
  {
   "cell_type": "code",
   "execution_count": 63,
   "metadata": {},
   "outputs": [],
   "source": [
    "# Jaccard similarity\n",
    "def jaccard_sim(point1, point2):\n",
    "    tkns1 = set(word_tokenize(point1))\n",
    "    tkns2 = set(word_tokenize(point2))\n",
    "    intersection = len(tkns1.intersection(tkns2))\n",
    "    union = len(tkns1) + len(tkns2) - intersection\n",
    "    sim = intersection / union\n",
    "    return sim"
   ]
  },
  {
   "cell_type": "code",
   "execution_count": 8,
   "metadata": {},
   "outputs": [
    {
     "data": {
      "text/html": [
       "<div>\n",
       "<style scoped>\n",
       "    .dataframe tbody tr th:only-of-type {\n",
       "        vertical-align: middle;\n",
       "    }\n",
       "\n",
       "    .dataframe tbody tr th {\n",
       "        vertical-align: top;\n",
       "    }\n",
       "\n",
       "    .dataframe thead th {\n",
       "        text-align: right;\n",
       "    }\n",
       "</style>\n",
       "<table border=\"1\" class=\"dataframe\">\n",
       "  <thead>\n",
       "    <tr style=\"text-align: right;\">\n",
       "      <th></th>\n",
       "      <th>id</th>\n",
       "      <th>website</th>\n",
       "      <th>topic</th>\n",
       "      <th>subtopic</th>\n",
       "      <th>agree/disagree</th>\n",
       "      <th>terms</th>\n",
       "    </tr>\n",
       "  </thead>\n",
       "  <tbody>\n",
       "    <tr>\n",
       "      <th>0</th>\n",
       "      <td>1</td>\n",
       "      <td>khan academy</td>\n",
       "      <td>privacy policy</td>\n",
       "      <td>user information collection</td>\n",
       "      <td>1.0</td>\n",
       "      <td>When you create an account on the Service, or ...</td>\n",
       "    </tr>\n",
       "    <tr>\n",
       "      <th>1</th>\n",
       "      <td>2</td>\n",
       "      <td>khan academy</td>\n",
       "      <td>privacy policy</td>\n",
       "      <td>user information collection</td>\n",
       "      <td>1.0</td>\n",
       "      <td>After you register, you may also choose to pro...</td>\n",
       "    </tr>\n",
       "    <tr>\n",
       "      <th>2</th>\n",
       "      <td>3</td>\n",
       "      <td>khan academy</td>\n",
       "      <td>privacy policy</td>\n",
       "      <td>user information collection</td>\n",
       "      <td>1.0</td>\n",
       "      <td>In addition, we may ask you for personal infor...</td>\n",
       "    </tr>\n",
       "    <tr>\n",
       "      <th>3</th>\n",
       "      <td>4</td>\n",
       "      <td>khan academy</td>\n",
       "      <td>privacy policy</td>\n",
       "      <td>user information collection</td>\n",
       "      <td>1.0</td>\n",
       "      <td>If you decide to register through or otherwise...</td>\n",
       "    </tr>\n",
       "    <tr>\n",
       "      <th>4</th>\n",
       "      <td>5</td>\n",
       "      <td>khan academy</td>\n",
       "      <td>privacy policy</td>\n",
       "      <td>user information collection</td>\n",
       "      <td>1.0</td>\n",
       "      <td>You may also have the option of sharing additi...</td>\n",
       "    </tr>\n",
       "  </tbody>\n",
       "</table>\n",
       "</div>"
      ],
      "text/plain": [
       "   id       website           topic                     subtopic  \\\n",
       "0   1  khan academy  privacy policy  user information collection   \n",
       "1   2  khan academy  privacy policy  user information collection   \n",
       "2   3  khan academy  privacy policy  user information collection   \n",
       "3   4  khan academy  privacy policy  user information collection   \n",
       "4   5  khan academy  privacy policy  user information collection   \n",
       "\n",
       "   agree/disagree                                              terms  \n",
       "0             1.0  When you create an account on the Service, or ...  \n",
       "1             1.0  After you register, you may also choose to pro...  \n",
       "2             1.0  In addition, we may ask you for personal infor...  \n",
       "3             1.0  If you decide to register through or otherwise...  \n",
       "4             1.0  You may also have the option of sharing additi...  "
      ]
     },
     "execution_count": 8,
     "metadata": {},
     "output_type": "execute_result"
    }
   ],
   "source": [
    "my_df = pd.read_csv(\"../project-resources/my_dataset.csv\")\n",
    "my_df.head()"
   ]
  },
  {
   "cell_type": "code",
   "execution_count": 35,
   "metadata": {},
   "outputs": [
    {
     "data": {
      "text/html": [
       "<div>\n",
       "<style scoped>\n",
       "    .dataframe tbody tr th:only-of-type {\n",
       "        vertical-align: middle;\n",
       "    }\n",
       "\n",
       "    .dataframe tbody tr th {\n",
       "        vertical-align: top;\n",
       "    }\n",
       "\n",
       "    .dataframe thead th {\n",
       "        text-align: right;\n",
       "    }\n",
       "</style>\n",
       "<table border=\"1\" class=\"dataframe\">\n",
       "  <thead>\n",
       "    <tr style=\"text-align: right;\">\n",
       "      <th></th>\n",
       "      <th>id</th>\n",
       "      <th>website</th>\n",
       "      <th>topic</th>\n",
       "      <th>subtopic</th>\n",
       "      <th>term</th>\n",
       "      <th>positive/negative</th>\n",
       "    </tr>\n",
       "  </thead>\n",
       "  <tbody>\n",
       "    <tr>\n",
       "      <th>0</th>\n",
       "      <td>1</td>\n",
       "      <td>chegg.com</td>\n",
       "      <td>privacy policy</td>\n",
       "      <td>user information collection</td>\n",
       "      <td>When you create a user account, we collect you...</td>\n",
       "      <td>NaN</td>\n",
       "    </tr>\n",
       "    <tr>\n",
       "      <th>1</th>\n",
       "      <td>2</td>\n",
       "      <td>chegg.com</td>\n",
       "      <td>privacy policy</td>\n",
       "      <td>user information collection</td>\n",
       "      <td>You may have the opportunity to create a profi...</td>\n",
       "      <td>NaN</td>\n",
       "    </tr>\n",
       "    <tr>\n",
       "      <th>2</th>\n",
       "      <td>3</td>\n",
       "      <td>chegg.com</td>\n",
       "      <td>privacy policy</td>\n",
       "      <td>user information collection</td>\n",
       "      <td>When you register to be a tutor, we will colle...</td>\n",
       "      <td>NaN</td>\n",
       "    </tr>\n",
       "    <tr>\n",
       "      <th>3</th>\n",
       "      <td>4</td>\n",
       "      <td>chegg.com</td>\n",
       "      <td>privacy policy</td>\n",
       "      <td>user information collection</td>\n",
       "      <td>We collect personal information from you such ...</td>\n",
       "      <td>NaN</td>\n",
       "    </tr>\n",
       "    <tr>\n",
       "      <th>4</th>\n",
       "      <td>5</td>\n",
       "      <td>chegg.com</td>\n",
       "      <td>privacy policy</td>\n",
       "      <td>user information collection</td>\n",
       "      <td>The Services may allow community members to co...</td>\n",
       "      <td>NaN</td>\n",
       "    </tr>\n",
       "  </tbody>\n",
       "</table>\n",
       "</div>"
      ],
      "text/plain": [
       "   id    website           topic                     subtopic  \\\n",
       "0   1  chegg.com  privacy policy  user information collection   \n",
       "1   2  chegg.com  privacy policy  user information collection   \n",
       "2   3  chegg.com  privacy policy  user information collection   \n",
       "3   4  chegg.com  privacy policy  user information collection   \n",
       "4   5  chegg.com  privacy policy  user information collection   \n",
       "\n",
       "                                                term  positive/negative  \n",
       "0  When you create a user account, we collect you...                NaN  \n",
       "1  You may have the opportunity to create a profi...                NaN  \n",
       "2  When you register to be a tutor, we will colle...                NaN  \n",
       "3  We collect personal information from you such ...                NaN  \n",
       "4  The Services may allow community members to co...                NaN  "
      ]
     },
     "execution_count": 35,
     "metadata": {},
     "output_type": "execute_result"
    }
   ],
   "source": [
    "other_df = pd.read_csv(\"../project-resources/testing_data.csv\")\n",
    "other_df.head()"
   ]
  },
  {
   "cell_type": "code",
   "execution_count": 22,
   "metadata": {},
   "outputs": [
    {
     "data": {
      "text/plain": [
       "'When you create an account on the Service, or communicate with us, we may collect personal information including your name, email address, and birthdate.'"
      ]
     },
     "execution_count": 22,
     "metadata": {},
     "output_type": "execute_result"
    }
   ],
   "source": [
    "# Original words\n",
    "my_df['terms'][0]"
   ]
  },
  {
   "cell_type": "code",
   "execution_count": 24,
   "metadata": {},
   "outputs": [
    {
     "data": {
      "text/plain": [
       "'account email address name birthdate u create service may communicate information collect personal including'"
      ]
     },
     "execution_count": 24,
     "metadata": {},
     "output_type": "execute_result"
    }
   ],
   "source": [
    "# Preprocessed words\n",
    "preprocess(my_df['terms'][0])"
   ]
  },
  {
   "cell_type": "code",
   "execution_count": 80,
   "metadata": {},
   "outputs": [
    {
     "data": {
      "text/plain": [
       "0      account email address name birthdate u create ...\n",
       "1      register demographic provide profile location ...\n",
       "2      email otherwise user send complete ask u suppo...\n",
       "3      register single otherwise account decide alrea...\n",
       "4      sharing option service may additional integrat...\n",
       "                             ...                        \n",
       "144    incorrect delete reside hold copy provide rest...\n",
       "145    remain residual email period every provide ans...\n",
       "146    obligation email need comply provide request i...\n",
       "147    delete longer data provide necessary ask u ser...\n",
       "148    account data ask u certain case inaccurate par...\n",
       "Name: new_terms, Length: 149, dtype: object"
      ]
     },
     "execution_count": 80,
     "metadata": {},
     "output_type": "execute_result"
    }
   ],
   "source": [
    "# Preprocessing my all terms and add them in a new column\n",
    "my_df['new_terms'] = preprocess_list(my_df['terms'])\n",
    "my_df['new_terms']"
   ]
  },
  {
   "cell_type": "code",
   "execution_count": 84,
   "metadata": {},
   "outputs": [
    {
     "data": {
      "text/plain": [
       "0    account email address user school code prefere...\n",
       "1    photograph history work academic opportunity i...\n",
       "2    register tutor obligation account country need...\n",
       "3    register email address otherwise customer job ...\n",
       "4    communication allow text community collaborate...\n",
       "Name: new_terms, dtype: object"
      ]
     },
     "execution_count": 84,
     "metadata": {},
     "output_type": "execute_result"
    }
   ],
   "source": [
    "# Preprocessing other all terms and add them in a new column\n",
    "other_df['new_terms'] = preprocess_list(other_df['term'])\n",
    "other_df['new_terms'].head()"
   ]
  },
  {
   "cell_type": "code",
   "execution_count": 68,
   "metadata": {},
   "outputs": [
    {
     "data": {
      "text/plain": [
       "array([[0.45983951, 0.10845019, 0.13311983, ..., 0.09841881, 0.10630498,\n",
       "        0.10397155],\n",
       "       [0.18216179, 0.09680598, 0.0241785 , ..., 0.07283323, 0.        ,\n",
       "        0.        ],\n",
       "       [0.0847251 , 0.06798167, 0.00628415, ..., 0.26312968, 0.063923  ,\n",
       "        0.03655197],\n",
       "       ...,\n",
       "       [0.03366364, 0.18603621, 0.02511572, ..., 0.05072395, 0.        ,\n",
       "        0.03892878],\n",
       "       [0.18020835, 0.02655309, 0.05920861, ..., 0.04838494, 0.        ,\n",
       "        0.        ],\n",
       "       [0.04177613, 0.01522503, 0.01241826, ..., 0.13832135, 0.        ,\n",
       "        0.        ]])"
      ]
     },
     "execution_count": 68,
     "metadata": {},
     "output_type": "execute_result"
    }
   ],
   "source": [
    "# Cosine similarity matrix\n",
    "my_points = my_df['new_terms']\n",
    "other_points = other_df['new_terms']\n",
    "\n",
    "# Train tfidf on my_points\n",
    "tfidf = TfidfVectorizer()\n",
    "tfidf_my_points = tfidf.fit_transform(my_points)\n",
    "\n",
    "# Tranform the corpus using the trained tfidf\n",
    "tfidf_other_points = tfidf.transform(other_points)\n",
    "\n",
    "# Cosine similarity (similarity matrix)\n",
    "cos_similarity = np.dot(tfidf_other_points, tfidf_my_points.T).A\n",
    "cos_similarity"
   ]
  },
  {
   "cell_type": "code",
   "execution_count": 67,
   "metadata": {},
   "outputs": [
    {
     "data": {
      "text/plain": [
       "0.32142857142857145"
      ]
     },
     "execution_count": 67,
     "metadata": {},
     "output_type": "execute_result"
    }
   ],
   "source": [
    "jaccard_sim(my_df['new_terms'][0], other_df['new_terms'][0])"
   ]
  },
  {
   "cell_type": "code",
   "execution_count": 86,
   "metadata": {},
   "outputs": [
    {
     "name": "stdout",
     "output_type": "stream",
     "text": [
      "0.32142857142857145\n",
      "0.3333333333333333\n",
      "0.3333333333333333\n"
     ]
    }
   ],
   "source": [
    "for my in my_df['new_terms']:\n",
    "    for other in other_df['new_terms']:\n",
    "        sim = jaccard_sim(my, other)\n",
    "        if sim > 0.3:\n",
    "            print(sim)"
   ]
  }
 ],
 "metadata": {
  "kernelspec": {
   "display_name": "Python 3",
   "language": "python",
   "name": "python3"
  },
  "language_info": {
   "codemirror_mode": {
    "name": "ipython",
    "version": 3
   },
   "file_extension": ".py",
   "mimetype": "text/x-python",
   "name": "python",
   "nbconvert_exporter": "python",
   "pygments_lexer": "ipython3",
   "version": "3.8.3"
  }
 },
 "nbformat": 4,
 "nbformat_minor": 4
}
